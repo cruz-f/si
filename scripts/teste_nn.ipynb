{
 "cells": [
  {
   "cell_type": "code",
   "execution_count": 6,
   "metadata": {},
   "outputs": [],
   "source": [
    "import sys\n",
    "sys.path.insert(0, \"/home/monica/Documents/2_ano/sistemas/si/\") \n",
    "from src.si.data.dataset import Dataset\n",
    "from src.si.io_folder.module_csv import read_csv\n",
    "from src.si.neuronetworks.nn import NN\n",
    "from src.si.neuronetworks.layer import Dense\n",
    "from src.si.neuronetworks.sigmoid_activation import SigmoidActivation\n",
    "\n",
    "import pandas as pd\n",
    "import numpy as np"
   ]
  },
  {
   "cell_type": "code",
   "execution_count": 11,
   "metadata": {},
   "outputs": [
    {
     "name": "stdout",
     "output_type": "stream",
     "text": [
      "[[0 0]\n",
      " [0 1]\n",
      " [1 0]\n",
      " [1 2]]\n",
      "[1 0 0 1]\n"
     ]
    }
   ],
   "source": [
    "X = np.array([[0,0],\n",
    "              [0,1],\n",
    "              [1,0],\n",
    "              [1,2]])\n",
    "\n",
    "Y = np.array([1,\n",
    "              0,\n",
    "              0,\n",
    "              1])\n",
    "\n",
    "dataset = Dataset(X = X, y = Y, features = ['x1', 'x2'], label = 'x1 XNOR x2')\n",
    "print(dataset.X)\n",
    "print(dataset.y)"
   ]
  },
  {
   "cell_type": "code",
   "execution_count": 12,
   "metadata": {},
   "outputs": [],
   "source": [
    "l1 = Dense(input_size = 2, output_size=2)\n",
    "l2 = Dense(input_size = 2, output_size=1)\n",
    "\n",
    "l1_sg = SigmoidActivation()\n",
    "l2_sg = SigmoidActivation()\n",
    "\n"
   ]
  },
  {
   "cell_type": "code",
   "execution_count": 13,
   "metadata": {},
   "outputs": [],
   "source": [
    "nn_model = NN(\n",
    "    layers=[ l1, l1_sg, l2, l2_sg]\n",
    ")"
   ]
  },
  {
   "cell_type": "code",
   "execution_count": 16,
   "metadata": {},
   "outputs": [
    {
     "data": {
      "text/plain": [
       "<src.si.neuronetworks.nn.NN at 0x7f6f0c067d30>"
      ]
     },
     "execution_count": 16,
     "metadata": {},
     "output_type": "execute_result"
    }
   ],
   "source": [
    "nn_model.fit(dataset=dataset)"
   ]
  },
  {
   "cell_type": "code",
   "execution_count": null,
   "metadata": {},
   "outputs": [],
   "source": []
  }
 ],
 "metadata": {
  "kernelspec": {
   "display_name": "Python 3.9.12 ('base')",
   "language": "python",
   "name": "python3"
  },
  "language_info": {
   "codemirror_mode": {
    "name": "ipython",
    "version": 3
   },
   "file_extension": ".py",
   "mimetype": "text/x-python",
   "name": "python",
   "nbconvert_exporter": "python",
   "pygments_lexer": "ipython3",
   "version": "3.9.12"
  },
  "orig_nbformat": 4,
  "vscode": {
   "interpreter": {
    "hash": "e71a2622d18b954f601eb15bdbe4e36c93b9df08524a4249d8fe136413568723"
   }
  }
 },
 "nbformat": 4,
 "nbformat_minor": 2
}
