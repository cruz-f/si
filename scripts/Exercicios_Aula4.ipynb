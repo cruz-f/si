{
 "cells": [
  {
   "cell_type": "code",
   "execution_count": 2,
   "metadata": {},
   "outputs": [],
   "source": [
    "import pandas as pd\n",
    "import numpy as np"
   ]
  },
  {
   "cell_type": "code",
   "execution_count": 1,
   "metadata": {},
   "outputs": [],
   "source": [
    "import sys\n",
    "sys.path.insert(0, \"/home/monica/Documents/2_ano/sistemas/si/\") \n",
    "from src.si.data.dataset import Dataset"
   ]
  },
  {
   "cell_type": "code",
   "execution_count": 3,
   "metadata": {},
   "outputs": [],
   "source": [
    "from src.si.io_folder.module_csv import read_csv"
   ]
  },
  {
   "cell_type": "markdown",
   "metadata": {},
   "source": [
    "# Avaliação Aula 4 (17/10/2022)"
   ]
  },
  {
   "cell_type": "markdown",
   "metadata": {},
   "source": [
    "## Exercício 4: Implementar o KNNRegressor com RMSE"
   ]
  },
  {
   "cell_type": "markdown",
   "metadata": {},
   "source": [
    "##### 4.1) Adiciona a métrica RMSE (RMQE em português) ao sub-package metrics. Deves criar um módulo chamado rmse.py"
   ]
  },
  {
   "cell_type": "markdown",
   "metadata": {},
   "source": [
    "##### 4.2) Considera a estrutura da função rmse apresentada no diapositivo seguinte.\n",
    "\n",
    "**def rmse**\n",
    "\n",
    "Assinatura/argumentos:\n",
    "- y_true – valores reais de Y\n",
    "- Y_pred – valores estimados de Y\n",
    "\n",
    "Ouput esperado:\n",
    "- O valor do erro entre y_true e y_pred\n",
    "\n",
    "Algoritmo:\n",
    "- Calcula o erro seguindo a formula da RMSE (RMQE em português)\n",
    "- N representa o número de amostras\n",
    "- y_true é a variável y_true\n",
    "- y_pred é a variável y_pred"
   ]
  },
  {
   "cell_type": "markdown",
   "metadata": {},
   "source": [
    "##### 4.3) Considera a estrutura do objeto KNNRegressor apresentada no diapositivo seguinte.\n",
    "\n",
    "**class KNNClassifier**\n",
    "\n",
    "Parâmetros:\n",
    "- k – número de k exemplos a considerar\n",
    "- distance – função que calcula a distância entre amostra e as amostras do dataset de treino\n",
    "\n",
    "Parâmetros estimados:\n",
    "- dataset – armazena o dataset de treino\n",
    "\n",
    "Métodos:\n",
    "- fit – armazena o dataset de treino\n",
    "- predict – estima a classe para uma amostra tendo como base os k exemplos mais semelhantes\n",
    "- score – calcula o erro entre as classes estimadas e as reais"
   ]
  },
  {
   "cell_type": "markdown",
   "metadata": {},
   "source": [
    "##### 4.4) Podes testar o objeto KNNRegressor num jupyter notebook usando o dataset cpu.csv (regressão)"
   ]
  },
  {
   "cell_type": "code",
   "execution_count": null,
   "metadata": {},
   "outputs": [],
   "source": []
  }
 ],
 "metadata": {
  "interpreter": {
   "hash": "e71a2622d18b954f601eb15bdbe4e36c93b9df08524a4249d8fe136413568723"
  },
  "kernelspec": {
   "display_name": "Python 3 (ipykernel)",
   "language": "python",
   "name": "python3"
  },
  "language_info": {
   "codemirror_mode": {
    "name": "ipython",
    "version": 3
   },
   "file_extension": ".py",
   "mimetype": "text/x-python",
   "name": "python",
   "nbconvert_exporter": "python",
   "pygments_lexer": "ipython3",
   "version": "3.9.12"
  }
 },
 "nbformat": 4,
 "nbformat_minor": 4
}
