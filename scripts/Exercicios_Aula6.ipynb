{
 "cells": [
  {
   "cell_type": "code",
   "execution_count": 1,
   "metadata": {},
   "outputs": [],
   "source": [
    "import pandas as pd\n",
    "import numpy as np"
   ]
  },
  {
   "cell_type": "code",
   "execution_count": 2,
   "metadata": {},
   "outputs": [],
   "source": [
    "import sys\n",
    "sys.path.insert(0, \"/home/monica/Documents/2_ano/sistemas/si/\") \n",
    "from src.si.data.dataset import Dataset\n",
    "from src.si.ensemble.voting_classifier import VotingClassifier\n",
    "from src.si.ensemble.stacking_classifier import StackingClassifier\n",
    "from src.si.linear_model.logistic_regression import LogisticRegression\n",
    "from src.si.neighbors.knn_classifier import KNNClassifier\n",
    "from src.si.model_selection.split import train_test_split\n",
    "from src.si.metrics.accuracy import accuracy\n",
    "from src.si.io_folder.module_csv import read_csv"
   ]
  },
  {
   "cell_type": "markdown",
   "metadata": {},
   "source": [
    "# Avaliação Aula 6 (31/10/2022)"
   ]
  },
  {
   "cell_type": "markdown",
   "metadata": {},
   "source": [
    "## Exercício 6: Adiciona o modelo ensemble StackingClassifier\n",
    "\n",
    "O modelo StackingClassifier usa um conjunto de modelos para gerar previsões. Estas previsões são depois usadas para treinar outro modelo, o modelo final. O modelo final pode depois ser usado para prever a variável de saída (Y)."
   ]
  },
  {
   "cell_type": "markdown",
   "metadata": {},
   "source": [
    "##### 6.1) Considera a estrutura do StackingClassifier apresentada nos slides seguintes. "
   ]
  },
  {
   "cell_type": "markdown",
   "metadata": {},
   "source": [
    "Feito diretamente no package (si > ensemble > stacking_classifier.py)"
   ]
  },
  {
   "cell_type": "markdown",
   "metadata": {},
   "source": [
    "##### 6.2) Valida a tua implementação seguindo o protocolo:\n",
    "\n",
    "1. Usa o dataset breast-bin.csv"
   ]
  },
  {
   "cell_type": "code",
   "execution_count": 3,
   "metadata": {},
   "outputs": [
    {
     "name": "stderr",
     "output_type": "stream",
     "text": [
      "/tmp/ipykernel_18485/3134812772.py:1: FutureWarning: In a future version of pandas all arguments of read_csv except for the argument 'filepath_or_buffer' will be keyword-only.\n",
      "  breast_dataset = read_csv('/home/monica/Documents/2_ano/sistemas/si/datasets/breast-bin.csv', sep=',',features=False, label=True)\n"
     ]
    },
    {
     "data": {
      "text/html": [
       "<div>\n",
       "<style scoped>\n",
       "    .dataframe tbody tr th:only-of-type {\n",
       "        vertical-align: middle;\n",
       "    }\n",
       "\n",
       "    .dataframe tbody tr th {\n",
       "        vertical-align: top;\n",
       "    }\n",
       "\n",
       "    .dataframe thead th {\n",
       "        text-align: right;\n",
       "    }\n",
       "</style>\n",
       "<table border=\"1\" class=\"dataframe\">\n",
       "  <thead>\n",
       "    <tr style=\"text-align: right;\">\n",
       "      <th></th>\n",
       "      <th>8.000000000000000000e+00</th>\n",
       "      <th>4.000000000000000000e+00</th>\n",
       "      <th>4.000000000000000000e+00.1</th>\n",
       "      <th>1.000000000000000000e+00</th>\n",
       "      <th>2.000000000000000000e+00</th>\n",
       "      <th>9.000000000000000000e+00</th>\n",
       "      <th>3.000000000000000000e+00</th>\n",
       "      <th>3.000000000000000000e+00.1</th>\n",
       "      <th>1.000000000000000000e+00.1</th>\n",
       "    </tr>\n",
       "  </thead>\n",
       "  <tbody>\n",
       "    <tr>\n",
       "      <th>0</th>\n",
       "      <td>5.0</td>\n",
       "      <td>1.0</td>\n",
       "      <td>1.0</td>\n",
       "      <td>3.0</td>\n",
       "      <td>2.0</td>\n",
       "      <td>1.0</td>\n",
       "      <td>1.0</td>\n",
       "      <td>1.0</td>\n",
       "      <td>1.0</td>\n",
       "    </tr>\n",
       "    <tr>\n",
       "      <th>1</th>\n",
       "      <td>2.0</td>\n",
       "      <td>1.0</td>\n",
       "      <td>1.0</td>\n",
       "      <td>1.0</td>\n",
       "      <td>3.0</td>\n",
       "      <td>1.0</td>\n",
       "      <td>2.0</td>\n",
       "      <td>1.0</td>\n",
       "      <td>1.0</td>\n",
       "    </tr>\n",
       "    <tr>\n",
       "      <th>2</th>\n",
       "      <td>2.0</td>\n",
       "      <td>1.0</td>\n",
       "      <td>1.0</td>\n",
       "      <td>1.0</td>\n",
       "      <td>2.0</td>\n",
       "      <td>1.0</td>\n",
       "      <td>3.0</td>\n",
       "      <td>1.0</td>\n",
       "      <td>1.0</td>\n",
       "    </tr>\n",
       "    <tr>\n",
       "      <th>3</th>\n",
       "      <td>9.0</td>\n",
       "      <td>5.0</td>\n",
       "      <td>8.0</td>\n",
       "      <td>1.0</td>\n",
       "      <td>2.0</td>\n",
       "      <td>3.0</td>\n",
       "      <td>2.0</td>\n",
       "      <td>1.0</td>\n",
       "      <td>5.0</td>\n",
       "    </tr>\n",
       "    <tr>\n",
       "      <th>4</th>\n",
       "      <td>3.0</td>\n",
       "      <td>1.0</td>\n",
       "      <td>1.0</td>\n",
       "      <td>1.0</td>\n",
       "      <td>2.0</td>\n",
       "      <td>1.0</td>\n",
       "      <td>3.0</td>\n",
       "      <td>1.0</td>\n",
       "      <td>1.0</td>\n",
       "    </tr>\n",
       "    <tr>\n",
       "      <th>...</th>\n",
       "      <td>...</td>\n",
       "      <td>...</td>\n",
       "      <td>...</td>\n",
       "      <td>...</td>\n",
       "      <td>...</td>\n",
       "      <td>...</td>\n",
       "      <td>...</td>\n",
       "      <td>...</td>\n",
       "      <td>...</td>\n",
       "    </tr>\n",
       "    <tr>\n",
       "      <th>693</th>\n",
       "      <td>1.0</td>\n",
       "      <td>1.0</td>\n",
       "      <td>1.0</td>\n",
       "      <td>1.0</td>\n",
       "      <td>4.0</td>\n",
       "      <td>3.0</td>\n",
       "      <td>1.0</td>\n",
       "      <td>1.0</td>\n",
       "      <td>1.0</td>\n",
       "    </tr>\n",
       "    <tr>\n",
       "      <th>694</th>\n",
       "      <td>5.0</td>\n",
       "      <td>3.0</td>\n",
       "      <td>1.0</td>\n",
       "      <td>2.0</td>\n",
       "      <td>2.0</td>\n",
       "      <td>1.0</td>\n",
       "      <td>2.0</td>\n",
       "      <td>1.0</td>\n",
       "      <td>1.0</td>\n",
       "    </tr>\n",
       "    <tr>\n",
       "      <th>695</th>\n",
       "      <td>5.0</td>\n",
       "      <td>2.0</td>\n",
       "      <td>2.0</td>\n",
       "      <td>2.0</td>\n",
       "      <td>2.0</td>\n",
       "      <td>1.0</td>\n",
       "      <td>1.0</td>\n",
       "      <td>1.0</td>\n",
       "      <td>2.0</td>\n",
       "    </tr>\n",
       "    <tr>\n",
       "      <th>696</th>\n",
       "      <td>2.0</td>\n",
       "      <td>3.0</td>\n",
       "      <td>2.0</td>\n",
       "      <td>2.0</td>\n",
       "      <td>2.0</td>\n",
       "      <td>2.0</td>\n",
       "      <td>3.0</td>\n",
       "      <td>1.0</td>\n",
       "      <td>1.0</td>\n",
       "    </tr>\n",
       "    <tr>\n",
       "      <th>697</th>\n",
       "      <td>7.0</td>\n",
       "      <td>6.0</td>\n",
       "      <td>6.0</td>\n",
       "      <td>3.0</td>\n",
       "      <td>2.0</td>\n",
       "      <td>10.0</td>\n",
       "      <td>7.0</td>\n",
       "      <td>1.0</td>\n",
       "      <td>1.0</td>\n",
       "    </tr>\n",
       "  </tbody>\n",
       "</table>\n",
       "<p>698 rows × 9 columns</p>\n",
       "</div>"
      ],
      "text/plain": [
       "     8.000000000000000000e+00  4.000000000000000000e+00  \\\n",
       "0                         5.0                       1.0   \n",
       "1                         2.0                       1.0   \n",
       "2                         2.0                       1.0   \n",
       "3                         9.0                       5.0   \n",
       "4                         3.0                       1.0   \n",
       "..                        ...                       ...   \n",
       "693                       1.0                       1.0   \n",
       "694                       5.0                       3.0   \n",
       "695                       5.0                       2.0   \n",
       "696                       2.0                       3.0   \n",
       "697                       7.0                       6.0   \n",
       "\n",
       "     4.000000000000000000e+00.1  1.000000000000000000e+00  \\\n",
       "0                           1.0                       3.0   \n",
       "1                           1.0                       1.0   \n",
       "2                           1.0                       1.0   \n",
       "3                           8.0                       1.0   \n",
       "4                           1.0                       1.0   \n",
       "..                          ...                       ...   \n",
       "693                         1.0                       1.0   \n",
       "694                         1.0                       2.0   \n",
       "695                         2.0                       2.0   \n",
       "696                         2.0                       2.0   \n",
       "697                         6.0                       3.0   \n",
       "\n",
       "     2.000000000000000000e+00  9.000000000000000000e+00  \\\n",
       "0                         2.0                       1.0   \n",
       "1                         3.0                       1.0   \n",
       "2                         2.0                       1.0   \n",
       "3                         2.0                       3.0   \n",
       "4                         2.0                       1.0   \n",
       "..                        ...                       ...   \n",
       "693                       4.0                       3.0   \n",
       "694                       2.0                       1.0   \n",
       "695                       2.0                       1.0   \n",
       "696                       2.0                       2.0   \n",
       "697                       2.0                      10.0   \n",
       "\n",
       "     3.000000000000000000e+00  3.000000000000000000e+00.1  \\\n",
       "0                         1.0                         1.0   \n",
       "1                         2.0                         1.0   \n",
       "2                         3.0                         1.0   \n",
       "3                         2.0                         1.0   \n",
       "4                         3.0                         1.0   \n",
       "..                        ...                         ...   \n",
       "693                       1.0                         1.0   \n",
       "694                       2.0                         1.0   \n",
       "695                       1.0                         1.0   \n",
       "696                       3.0                         1.0   \n",
       "697                       7.0                         1.0   \n",
       "\n",
       "     1.000000000000000000e+00.1  \n",
       "0                           1.0  \n",
       "1                           1.0  \n",
       "2                           1.0  \n",
       "3                           5.0  \n",
       "4                           1.0  \n",
       "..                          ...  \n",
       "693                         1.0  \n",
       "694                         1.0  \n",
       "695                         2.0  \n",
       "696                         1.0  \n",
       "697                         1.0  \n",
       "\n",
       "[698 rows x 9 columns]"
      ]
     },
     "execution_count": 3,
     "metadata": {},
     "output_type": "execute_result"
    }
   ],
   "source": [
    "breast_dataset = read_csv('/home/monica/Documents/2_ano/sistemas/si/datasets/breast-bin.csv', sep=',',features=False, label=True)\n",
    "breast_dataset.X"
   ]
  },
  {
   "cell_type": "markdown",
   "metadata": {},
   "source": [
    "2. Usa o sklearn.preprocessing.StandardScaler para standardizar os dataset.\n",
    "\n",
    "breast_dataset.X = StandardScaler().fit_transform(breast_dataset.X)\n"
   ]
  },
  {
   "cell_type": "code",
   "execution_count": 4,
   "metadata": {},
   "outputs": [],
   "source": [
    "from sklearn.preprocessing import StandardScaler\n",
    "\n",
    "breast_dataset.X = StandardScaler().fit_transform(breast_dataset.X)"
   ]
  },
  {
   "cell_type": "markdown",
   "metadata": {},
   "source": [
    "3. Divide o dataset em treino e teste"
   ]
  },
  {
   "cell_type": "code",
   "execution_count": 5,
   "metadata": {},
   "outputs": [
    {
     "name": "stdout",
     "output_type": "stream",
     "text": [
      "(559, 9) (139, 9)\n",
      "(559,) (139,)\n"
     ]
    }
   ],
   "source": [
    "breast_dataset_train, breast_dataset_test = train_test_split(breast_dataset)\n",
    "print(breast_dataset_train.X.shape, breast_dataset_test.X.shape)\n",
    "print(breast_dataset_train.y.shape, breast_dataset_test.y.shape)"
   ]
  },
  {
   "cell_type": "markdown",
   "metadata": {},
   "source": [
    "4. Cria o modelo KNNClassifier"
   ]
  },
  {
   "cell_type": "code",
   "execution_count": 6,
   "metadata": {},
   "outputs": [],
   "source": [
    "modelo_knn = KNNClassifier(3)"
   ]
  },
  {
   "cell_type": "markdown",
   "metadata": {},
   "source": [
    "5. Cria o modelo LogisticRegression"
   ]
  },
  {
   "cell_type": "code",
   "execution_count": 7,
   "metadata": {},
   "outputs": [],
   "source": [
    "modelo_lg = LogisticRegression()"
   ]
  },
  {
   "cell_type": "markdown",
   "metadata": {},
   "source": [
    "6. Cria um segundo modelo KNNClassifier (modelo final)"
   ]
  },
  {
   "cell_type": "code",
   "execution_count": 8,
   "metadata": {},
   "outputs": [],
   "source": [
    "modelo_final = KNNClassifier(4)"
   ]
  },
  {
   "cell_type": "markdown",
   "metadata": {},
   "source": [
    "7. Cria o modelo StackingClassifier usando os classificadores anteriores. O segundo modelo\n",
    "KNNClassifier deve ser usado como modelo final."
   ]
  },
  {
   "cell_type": "code",
   "execution_count": 16,
   "metadata": {},
   "outputs": [],
   "source": [
    "stacking_model = StackingClassifier([modelo_knn, modelo_lg], modelo_final)"
   ]
  },
  {
   "cell_type": "markdown",
   "metadata": {},
   "source": [
    "8. Treina o modelo. Qual o score obtido?"
   ]
  },
  {
   "cell_type": "code",
   "execution_count": 18,
   "metadata": {},
   "outputs": [
    {
     "ename": "TypeError",
     "evalue": "unsupported operand type(s) for -: 'float' and 'Dataset'",
     "output_type": "error",
     "traceback": [
      "\u001b[0;31m---------------------------------------------------------------------------\u001b[0m",
      "\u001b[0;31mTypeError\u001b[0m                                 Traceback (most recent call last)",
      "\u001b[1;32m/home/monica/Documents/2_ano/sistemas/si/scripts/Exercicios_Aula6.ipynb Cell 22\u001b[0m in \u001b[0;36m<cell line: 1>\u001b[0;34m()\u001b[0m\n\u001b[0;32m----> <a href='vscode-notebook-cell:/home/monica/Documents/2_ano/sistemas/si/scripts/Exercicios_Aula6.ipynb#X35sZmlsZQ%3D%3D?line=0'>1</a>\u001b[0m stacking_model\u001b[39m.\u001b[39;49mfit(breast_dataset_train)\n",
      "File \u001b[0;32m~/Documents/2_ano/sistemas/si/src/si/ensemble/stacking_classifier.py:24\u001b[0m, in \u001b[0;36mStackingClassifier.fit\u001b[0;34m(self, dataset)\u001b[0m\n\u001b[1;32m     22\u001b[0m     model\u001b[39m.\u001b[39mfit(dataset)\n\u001b[1;32m     23\u001b[0m \u001b[39m# guardar as previsões de cada modelo\u001b[39;00m\n\u001b[0;32m---> 24\u001b[0m predictions \u001b[39m=\u001b[39m np\u001b[39m.\u001b[39marray([model\u001b[39m.\u001b[39mpredict(dataset) \u001b[39mfor\u001b[39;00m model \u001b[39min\u001b[39;00m \u001b[39mself\u001b[39m\u001b[39m.\u001b[39mmodels])\u001b[39m.\u001b[39mtranspose() \u001b[39m# é preciso fazer transposta aqui? ver depois nos testes\u001b[39;00m\n\u001b[1;32m     26\u001b[0m \u001b[39m# fit do modelo final com as previsões calculadas anteriormente\u001b[39;00m\n\u001b[1;32m     27\u001b[0m \u001b[39mself\u001b[39m\u001b[39m.\u001b[39mfinal_model\u001b[39m.\u001b[39mfit(predictions)        \n",
      "File \u001b[0;32m~/Documents/2_ano/sistemas/si/src/si/ensemble/stacking_classifier.py:24\u001b[0m, in \u001b[0;36m<listcomp>\u001b[0;34m(.0)\u001b[0m\n\u001b[1;32m     22\u001b[0m     model\u001b[39m.\u001b[39mfit(dataset)\n\u001b[1;32m     23\u001b[0m \u001b[39m# guardar as previsões de cada modelo\u001b[39;00m\n\u001b[0;32m---> 24\u001b[0m predictions \u001b[39m=\u001b[39m np\u001b[39m.\u001b[39marray([model\u001b[39m.\u001b[39;49mpredict(dataset) \u001b[39mfor\u001b[39;00m model \u001b[39min\u001b[39;00m \u001b[39mself\u001b[39m\u001b[39m.\u001b[39mmodels])\u001b[39m.\u001b[39mtranspose() \u001b[39m# é preciso fazer transposta aqui? ver depois nos testes\u001b[39;00m\n\u001b[1;32m     26\u001b[0m \u001b[39m# fit do modelo final com as previsões calculadas anteriormente\u001b[39;00m\n\u001b[1;32m     27\u001b[0m \u001b[39mself\u001b[39m\u001b[39m.\u001b[39mfinal_model\u001b[39m.\u001b[39mfit(predictions)        \n",
      "File \u001b[0;32m~/Documents/2_ano/sistemas/si/src/si/neighbors/knn_classifier.py:42\u001b[0m, in \u001b[0;36mKNNClassifier.predict\u001b[0;34m(self, dataset)\u001b[0m\n\u001b[1;32m     41\u001b[0m \u001b[39mdef\u001b[39;00m \u001b[39mpredict\u001b[39m(\u001b[39mself\u001b[39m, dataset: Dataset):\n\u001b[0;32m---> 42\u001b[0m     \u001b[39mreturn\u001b[39;00m np\u001b[39m.\u001b[39;49mapply_along_axis(\u001b[39mself\u001b[39;49m\u001b[39m.\u001b[39;49m_get_closest_label, axis\u001b[39m=\u001b[39;49m\u001b[39m1\u001b[39;49m, arr\u001b[39m=\u001b[39;49mdataset\u001b[39m.\u001b[39;49mX)\n",
      "File \u001b[0;32m<__array_function__ internals>:5\u001b[0m, in \u001b[0;36mapply_along_axis\u001b[0;34m(*args, **kwargs)\u001b[0m\n",
      "File \u001b[0;32m~/anaconda3/lib/python3.9/site-packages/numpy/lib/shape_base.py:379\u001b[0m, in \u001b[0;36mapply_along_axis\u001b[0;34m(func1d, axis, arr, *args, **kwargs)\u001b[0m\n\u001b[1;32m    375\u001b[0m \u001b[39mexcept\u001b[39;00m \u001b[39mStopIteration\u001b[39;00m \u001b[39mas\u001b[39;00m e:\n\u001b[1;32m    376\u001b[0m     \u001b[39mraise\u001b[39;00m \u001b[39mValueError\u001b[39;00m(\n\u001b[1;32m    377\u001b[0m         \u001b[39m'\u001b[39m\u001b[39mCannot apply_along_axis when any iteration dimensions are 0\u001b[39m\u001b[39m'\u001b[39m\n\u001b[1;32m    378\u001b[0m     ) \u001b[39mfrom\u001b[39;00m \u001b[39mNone\u001b[39m\n\u001b[0;32m--> 379\u001b[0m res \u001b[39m=\u001b[39m asanyarray(func1d(inarr_view[ind0], \u001b[39m*\u001b[39;49margs, \u001b[39m*\u001b[39;49m\u001b[39m*\u001b[39;49mkwargs))\n\u001b[1;32m    381\u001b[0m \u001b[39m# build a buffer for storing evaluations of func1d.\u001b[39;00m\n\u001b[1;32m    382\u001b[0m \u001b[39m# remove the requested axis, and add the new ones on the end.\u001b[39;00m\n\u001b[1;32m    383\u001b[0m \u001b[39m# laid out so that each write is contiguous.\u001b[39;00m\n\u001b[1;32m    384\u001b[0m \u001b[39m# for a tuple index inds, buff[inds] = func1d(inarr_view[inds])\u001b[39;00m\n\u001b[1;32m    385\u001b[0m buff \u001b[39m=\u001b[39m zeros(inarr_view\u001b[39m.\u001b[39mshape[:\u001b[39m-\u001b[39m\u001b[39m1\u001b[39m] \u001b[39m+\u001b[39m res\u001b[39m.\u001b[39mshape, res\u001b[39m.\u001b[39mdtype)\n",
      "File \u001b[0;32m~/Documents/2_ano/sistemas/si/src/si/neighbors/knn_classifier.py:30\u001b[0m, in \u001b[0;36mKNNClassifier._get_closest_label\u001b[0;34m(self, sample)\u001b[0m\n\u001b[1;32m     28\u001b[0m \u001b[39mdef\u001b[39;00m \u001b[39m_get_closest_label\u001b[39m(\u001b[39mself\u001b[39m, sample: np\u001b[39m.\u001b[39mndarray) \u001b[39m-\u001b[39m\u001b[39m>\u001b[39m Union[\u001b[39mint\u001b[39m, \u001b[39mstr\u001b[39m]:\n\u001b[0;32m---> 30\u001b[0m     distances \u001b[39m=\u001b[39m \u001b[39mself\u001b[39;49m\u001b[39m.\u001b[39;49mdistance(sample, \u001b[39mself\u001b[39;49m\u001b[39m.\u001b[39;49mdataset)\n\u001b[1;32m     32\u001b[0m     k_nearest_neighbors \u001b[39m=\u001b[39m np\u001b[39m.\u001b[39margsort(distances)[:\u001b[39mself\u001b[39m\u001b[39m.\u001b[39mk]\n\u001b[1;32m     34\u001b[0m     k_nearest_neighbors_labels \u001b[39m=\u001b[39m \u001b[39mself\u001b[39m\u001b[39m.\u001b[39mdataset\u001b[39m.\u001b[39my[k_nearest_neighbors] \u001b[39m# np.array com as varias classes\u001b[39;00m\n",
      "File \u001b[0;32m~/Documents/2_ano/sistemas/si/src/si/statistics/euclidean_distance.py:5\u001b[0m, in \u001b[0;36meuclidean_distance\u001b[0;34m(x, y)\u001b[0m\n\u001b[1;32m      3\u001b[0m \u001b[39mdef\u001b[39;00m \u001b[39meuclidean_distance\u001b[39m(x: np\u001b[39m.\u001b[39mndarray ,y: np\u001b[39m.\u001b[39mndarray) \u001b[39m-\u001b[39m\u001b[39m>\u001b[39m np\u001b[39m.\u001b[39mndarray:\n\u001b[0;32m----> 5\u001b[0m     \u001b[39mreturn\u001b[39;00m np\u001b[39m.\u001b[39msqrt(((x\u001b[39m-\u001b[39;49my)\u001b[39m*\u001b[39m\u001b[39m*\u001b[39m\u001b[39m2\u001b[39m)\u001b[39m.\u001b[39msum(axis\u001b[39m=\u001b[39m\u001b[39m1\u001b[39m))\n",
      "\u001b[0;31mTypeError\u001b[0m: unsupported operand type(s) for -: 'float' and 'Dataset'"
     ]
    }
   ],
   "source": [
    "stacking_model.fit(breast_dataset_train) # erro corrigir aqui"
   ]
  }
 ],
 "metadata": {
  "interpreter": {
   "hash": "e71a2622d18b954f601eb15bdbe4e36c93b9df08524a4249d8fe136413568723"
  },
  "kernelspec": {
   "display_name": "Python 3 (ipykernel)",
   "language": "python",
   "name": "python3"
  },
  "language_info": {
   "codemirror_mode": {
    "name": "ipython",
    "version": 3
   },
   "file_extension": ".py",
   "mimetype": "text/x-python",
   "name": "python",
   "nbconvert_exporter": "python",
   "pygments_lexer": "ipython3",
   "version": "3.9.12"
  }
 },
 "nbformat": 4,
 "nbformat_minor": 4
}
